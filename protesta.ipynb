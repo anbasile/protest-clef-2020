{
  "nbformat": 4,
  "nbformat_minor": 0,
  "metadata": {
    "colab": {
      "name": "protesta_reproduce_ results.ipynb",
      "provenance": [],
      "toc_visible": true
    },
    "kernelspec": {
      "name": "python3",
      "display_name": "Python 3"
    },
    "accelerator": "GPU"
  },
  "cells": [
    {
      "cell_type": "markdown",
      "metadata": {
        "id": "-6j_3d8IC0oD"
      },
      "source": [
        "# Protesta CLEF 2020 Notebook\n",
        "\n",
        "This notebooks contains the code related to our participation to the CLEF 2019 Lab ProtestNews shared task."
      ]
    },
    {
      "cell_type": "markdown",
      "metadata": {
        "id": "TiLhfLZ3QdW_"
      },
      "source": [
        "## Installation\n",
        "\n",
        "To get started, install `protesta` from the github repository."
      ]
    },
    {
      "cell_type": "code",
      "metadata": {
        "id": "izheXEyhnRr9",
        "outputId": "cbc88d10-b200-4031-8b33-7d10ff1006ef",
        "colab": {
          "base_uri": "https://localhost:8080/",
          "height": 1000
        }
      },
      "source": [
        "!rm -rf ./protest-clef-2020/\n",
        "!git clone https://github.com/anbasile/protest-clef-2020 && cd protest-clef-2020 && pip install -e ."
      ],
      "execution_count": 1,
      "outputs": [
        {
          "output_type": "stream",
          "text": [
            "Cloning into 'protest-clef-2020'...\n",
            "remote: Enumerating objects: 129, done.\u001b[K\n",
            "remote: Counting objects: 100% (129/129), done.\u001b[K\n",
            "remote: Compressing objects: 100% (97/97), done.\u001b[K\n",
            "remote: Total 129 (delta 66), reused 66 (delta 30), pack-reused 0\u001b[K\n",
            "Receiving objects: 100% (129/129), 47.13 KiB | 9.43 MiB/s, done.\n",
            "Resolving deltas: 100% (66/66), done.\n",
            "Obtaining file:///content/protest-clef-2020\n",
            "Collecting nlp>=0.4\n",
            "\u001b[?25l  Downloading https://files.pythonhosted.org/packages/09/e3/bcdc59f3434b224040c1047769c47b82705feca2b89ebbc28311e3764782/nlp-0.4.0-py3-none-any.whl (1.7MB)\n",
            "\u001b[K     |████████████████████████████████| 1.7MB 5.3MB/s \n",
            "\u001b[?25hRequirement already satisfied: numpy<1.19 in /usr/local/lib/python3.6/dist-packages (from protesta==0.0.1) (1.18.5)\n",
            "Requirement already satisfied: tensorflow-addons in /usr/local/lib/python3.6/dist-packages (from protesta==0.0.1) (0.8.3)\n",
            "Requirement already satisfied: tensorflow==2.3.0 in /usr/local/lib/python3.6/dist-packages (from protesta==0.0.1) (2.3.0)\n",
            "Requirement already satisfied: torch==1.6.0 in /usr/local/lib/python3.6/dist-packages (from protesta==0.0.1) (1.6.0+cu101)\n",
            "Collecting transformers>=3.0\n",
            "\u001b[?25l  Downloading https://files.pythonhosted.org/packages/19/22/aff234f4a841f8999e68a7a94bdd4b60b4cebcfeca5d67d61cd08c9179de/transformers-3.3.1-py3-none-any.whl (1.1MB)\n",
            "\u001b[K     |████████████████████████████████| 1.1MB 39.3MB/s \n",
            "\u001b[?25hCollecting typer>=0.3.1\n",
            "  Downloading https://files.pythonhosted.org/packages/90/34/d138832f6945432c638f32137e6c79a3b682f06a63c488dcfaca6b166c64/typer-0.3.2-py3-none-any.whl\n",
            "Requirement already satisfied: requests>=2.19.0 in /usr/local/lib/python3.6/dist-packages (from nlp>=0.4->protesta==0.0.1) (2.23.0)\n",
            "Requirement already satisfied: dill in /usr/local/lib/python3.6/dist-packages (from nlp>=0.4->protesta==0.0.1) (0.3.2)\n",
            "Requirement already satisfied: filelock in /usr/local/lib/python3.6/dist-packages (from nlp>=0.4->protesta==0.0.1) (3.0.12)\n",
            "Collecting pyarrow>=0.16.0\n",
            "\u001b[?25l  Downloading https://files.pythonhosted.org/packages/f3/99/0a605f016121ca314d1469dc9069e4978395bc46fda40f73099d90ad3ba4/pyarrow-1.0.1-cp36-cp36m-manylinux2014_x86_64.whl (17.3MB)\n",
            "\u001b[K     |████████████████████████████████| 17.3MB 203kB/s \n",
            "\u001b[?25hRequirement already satisfied: dataclasses; python_version < \"3.7\" in /usr/local/lib/python3.6/dist-packages (from nlp>=0.4->protesta==0.0.1) (0.7)\n",
            "Collecting xxhash\n",
            "\u001b[?25l  Downloading https://files.pythonhosted.org/packages/f7/73/826b19f3594756cb1c6c23d2fbd8ca6a77a9cd3b650c9dec5acc85004c38/xxhash-2.0.0-cp36-cp36m-manylinux2010_x86_64.whl (242kB)\n",
            "\u001b[K     |████████████████████████████████| 245kB 54.1MB/s \n",
            "\u001b[?25hRequirement already satisfied: tqdm>=4.27 in /usr/local/lib/python3.6/dist-packages (from nlp>=0.4->protesta==0.0.1) (4.41.1)\n",
            "Requirement already satisfied: pandas in /usr/local/lib/python3.6/dist-packages (from nlp>=0.4->protesta==0.0.1) (1.1.2)\n",
            "Requirement already satisfied: typeguard in /usr/local/lib/python3.6/dist-packages (from tensorflow-addons->protesta==0.0.1) (2.7.1)\n",
            "Requirement already satisfied: termcolor>=1.1.0 in /usr/local/lib/python3.6/dist-packages (from tensorflow==2.3.0->protesta==0.0.1) (1.1.0)\n",
            "Requirement already satisfied: wheel>=0.26 in /usr/local/lib/python3.6/dist-packages (from tensorflow==2.3.0->protesta==0.0.1) (0.35.1)\n",
            "Requirement already satisfied: google-pasta>=0.1.8 in /usr/local/lib/python3.6/dist-packages (from tensorflow==2.3.0->protesta==0.0.1) (0.2.0)\n",
            "Requirement already satisfied: six>=1.12.0 in /usr/local/lib/python3.6/dist-packages (from tensorflow==2.3.0->protesta==0.0.1) (1.15.0)\n",
            "Requirement already satisfied: scipy==1.4.1 in /usr/local/lib/python3.6/dist-packages (from tensorflow==2.3.0->protesta==0.0.1) (1.4.1)\n",
            "Requirement already satisfied: tensorflow-estimator<2.4.0,>=2.3.0 in /usr/local/lib/python3.6/dist-packages (from tensorflow==2.3.0->protesta==0.0.1) (2.3.0)\n",
            "Requirement already satisfied: grpcio>=1.8.6 in /usr/local/lib/python3.6/dist-packages (from tensorflow==2.3.0->protesta==0.0.1) (1.32.0)\n",
            "Requirement already satisfied: protobuf>=3.9.2 in /usr/local/lib/python3.6/dist-packages (from tensorflow==2.3.0->protesta==0.0.1) (3.12.4)\n",
            "Requirement already satisfied: tensorboard<3,>=2.3.0 in /usr/local/lib/python3.6/dist-packages (from tensorflow==2.3.0->protesta==0.0.1) (2.3.0)\n",
            "Requirement already satisfied: wrapt>=1.11.1 in /usr/local/lib/python3.6/dist-packages (from tensorflow==2.3.0->protesta==0.0.1) (1.12.1)\n",
            "Requirement already satisfied: gast==0.3.3 in /usr/local/lib/python3.6/dist-packages (from tensorflow==2.3.0->protesta==0.0.1) (0.3.3)\n",
            "Requirement already satisfied: absl-py>=0.7.0 in /usr/local/lib/python3.6/dist-packages (from tensorflow==2.3.0->protesta==0.0.1) (0.10.0)\n",
            "Requirement already satisfied: astunparse==1.6.3 in /usr/local/lib/python3.6/dist-packages (from tensorflow==2.3.0->protesta==0.0.1) (1.6.3)\n",
            "Requirement already satisfied: opt-einsum>=2.3.2 in /usr/local/lib/python3.6/dist-packages (from tensorflow==2.3.0->protesta==0.0.1) (3.3.0)\n",
            "Requirement already satisfied: h5py<2.11.0,>=2.10.0 in /usr/local/lib/python3.6/dist-packages (from tensorflow==2.3.0->protesta==0.0.1) (2.10.0)\n",
            "Requirement already satisfied: keras-preprocessing<1.2,>=1.1.1 in /usr/local/lib/python3.6/dist-packages (from tensorflow==2.3.0->protesta==0.0.1) (1.1.2)\n",
            "Requirement already satisfied: future in /usr/local/lib/python3.6/dist-packages (from torch==1.6.0->protesta==0.0.1) (0.16.0)\n",
            "Collecting sacremoses\n",
            "\u001b[?25l  Downloading https://files.pythonhosted.org/packages/7d/34/09d19aff26edcc8eb2a01bed8e98f13a1537005d31e95233fd48216eed10/sacremoses-0.0.43.tar.gz (883kB)\n",
            "\u001b[K     |████████████████████████████████| 890kB 54.8MB/s \n",
            "\u001b[?25hRequirement already satisfied: regex!=2019.12.17 in /usr/local/lib/python3.6/dist-packages (from transformers>=3.0->protesta==0.0.1) (2019.12.20)\n",
            "Requirement already satisfied: packaging in /usr/local/lib/python3.6/dist-packages (from transformers>=3.0->protesta==0.0.1) (20.4)\n",
            "Collecting sentencepiece!=0.1.92\n",
            "\u001b[?25l  Downloading https://files.pythonhosted.org/packages/d4/a4/d0a884c4300004a78cca907a6ff9a5e9fe4f090f5d95ab341c53d28cbc58/sentencepiece-0.1.91-cp36-cp36m-manylinux1_x86_64.whl (1.1MB)\n",
            "\u001b[K     |████████████████████████████████| 1.1MB 51.3MB/s \n",
            "\u001b[?25hCollecting tokenizers==0.8.1.rc2\n",
            "\u001b[?25l  Downloading https://files.pythonhosted.org/packages/80/83/8b9fccb9e48eeb575ee19179e2bdde0ee9a1904f97de5f02d19016b8804f/tokenizers-0.8.1rc2-cp36-cp36m-manylinux1_x86_64.whl (3.0MB)\n",
            "\u001b[K     |████████████████████████████████| 3.0MB 59.4MB/s \n",
            "\u001b[?25hRequirement already satisfied: click<7.2.0,>=7.1.1 in /usr/local/lib/python3.6/dist-packages (from typer>=0.3.1->protesta==0.0.1) (7.1.2)\n",
            "Requirement already satisfied: certifi>=2017.4.17 in /usr/local/lib/python3.6/dist-packages (from requests>=2.19.0->nlp>=0.4->protesta==0.0.1) (2020.6.20)\n",
            "Requirement already satisfied: idna<3,>=2.5 in /usr/local/lib/python3.6/dist-packages (from requests>=2.19.0->nlp>=0.4->protesta==0.0.1) (2.10)\n",
            "Requirement already satisfied: urllib3!=1.25.0,!=1.25.1,<1.26,>=1.21.1 in /usr/local/lib/python3.6/dist-packages (from requests>=2.19.0->nlp>=0.4->protesta==0.0.1) (1.24.3)\n",
            "Requirement already satisfied: chardet<4,>=3.0.2 in /usr/local/lib/python3.6/dist-packages (from requests>=2.19.0->nlp>=0.4->protesta==0.0.1) (3.0.4)\n",
            "Requirement already satisfied: python-dateutil>=2.7.3 in /usr/local/lib/python3.6/dist-packages (from pandas->nlp>=0.4->protesta==0.0.1) (2.8.1)\n",
            "Requirement already satisfied: pytz>=2017.2 in /usr/local/lib/python3.6/dist-packages (from pandas->nlp>=0.4->protesta==0.0.1) (2018.9)\n",
            "Requirement already satisfied: setuptools in /usr/local/lib/python3.6/dist-packages (from protobuf>=3.9.2->tensorflow==2.3.0->protesta==0.0.1) (50.3.0)\n",
            "Requirement already satisfied: google-auth-oauthlib<0.5,>=0.4.1 in /usr/local/lib/python3.6/dist-packages (from tensorboard<3,>=2.3.0->tensorflow==2.3.0->protesta==0.0.1) (0.4.1)\n",
            "Requirement already satisfied: google-auth<2,>=1.6.3 in /usr/local/lib/python3.6/dist-packages (from tensorboard<3,>=2.3.0->tensorflow==2.3.0->protesta==0.0.1) (1.17.2)\n",
            "Requirement already satisfied: tensorboard-plugin-wit>=1.6.0 in /usr/local/lib/python3.6/dist-packages (from tensorboard<3,>=2.3.0->tensorflow==2.3.0->protesta==0.0.1) (1.7.0)\n",
            "Requirement already satisfied: markdown>=2.6.8 in /usr/local/lib/python3.6/dist-packages (from tensorboard<3,>=2.3.0->tensorflow==2.3.0->protesta==0.0.1) (3.2.2)\n",
            "Requirement already satisfied: werkzeug>=0.11.15 in /usr/local/lib/python3.6/dist-packages (from tensorboard<3,>=2.3.0->tensorflow==2.3.0->protesta==0.0.1) (1.0.1)\n",
            "Requirement already satisfied: joblib in /usr/local/lib/python3.6/dist-packages (from sacremoses->transformers>=3.0->protesta==0.0.1) (0.16.0)\n",
            "Requirement already satisfied: pyparsing>=2.0.2 in /usr/local/lib/python3.6/dist-packages (from packaging->transformers>=3.0->protesta==0.0.1) (2.4.7)\n",
            "Requirement already satisfied: requests-oauthlib>=0.7.0 in /usr/local/lib/python3.6/dist-packages (from google-auth-oauthlib<0.5,>=0.4.1->tensorboard<3,>=2.3.0->tensorflow==2.3.0->protesta==0.0.1) (1.3.0)\n",
            "Requirement already satisfied: pyasn1-modules>=0.2.1 in /usr/local/lib/python3.6/dist-packages (from google-auth<2,>=1.6.3->tensorboard<3,>=2.3.0->tensorflow==2.3.0->protesta==0.0.1) (0.2.8)\n",
            "Requirement already satisfied: cachetools<5.0,>=2.0.0 in /usr/local/lib/python3.6/dist-packages (from google-auth<2,>=1.6.3->tensorboard<3,>=2.3.0->tensorflow==2.3.0->protesta==0.0.1) (4.1.1)\n",
            "Requirement already satisfied: rsa<5,>=3.1.4; python_version >= \"3\" in /usr/local/lib/python3.6/dist-packages (from google-auth<2,>=1.6.3->tensorboard<3,>=2.3.0->tensorflow==2.3.0->protesta==0.0.1) (4.6)\n",
            "Requirement already satisfied: importlib-metadata; python_version < \"3.8\" in /usr/local/lib/python3.6/dist-packages (from markdown>=2.6.8->tensorboard<3,>=2.3.0->tensorflow==2.3.0->protesta==0.0.1) (2.0.0)\n",
            "Requirement already satisfied: oauthlib>=3.0.0 in /usr/local/lib/python3.6/dist-packages (from requests-oauthlib>=0.7.0->google-auth-oauthlib<0.5,>=0.4.1->tensorboard<3,>=2.3.0->tensorflow==2.3.0->protesta==0.0.1) (3.1.0)\n",
            "Requirement already satisfied: pyasn1<0.5.0,>=0.4.6 in /usr/local/lib/python3.6/dist-packages (from pyasn1-modules>=0.2.1->google-auth<2,>=1.6.3->tensorboard<3,>=2.3.0->tensorflow==2.3.0->protesta==0.0.1) (0.4.8)\n",
            "Requirement already satisfied: zipp>=0.5 in /usr/local/lib/python3.6/dist-packages (from importlib-metadata; python_version < \"3.8\"->markdown>=2.6.8->tensorboard<3,>=2.3.0->tensorflow==2.3.0->protesta==0.0.1) (3.2.0)\n",
            "Building wheels for collected packages: sacremoses\n",
            "  Building wheel for sacremoses (setup.py) ... \u001b[?25l\u001b[?25hdone\n",
            "  Created wheel for sacremoses: filename=sacremoses-0.0.43-cp36-none-any.whl size=893257 sha256=8c91c7d952d6ee495a06a27d89eac10af8bd0002b1b5d55fe3ea53995bbfd521\n",
            "  Stored in directory: /root/.cache/pip/wheels/29/3c/fd/7ce5c3f0666dab31a50123635e6fb5e19ceb42ce38d4e58f45\n",
            "Successfully built sacremoses\n",
            "Installing collected packages: pyarrow, xxhash, nlp, sacremoses, sentencepiece, tokenizers, transformers, typer, protesta\n",
            "  Found existing installation: pyarrow 0.14.1\n",
            "    Uninstalling pyarrow-0.14.1:\n",
            "      Successfully uninstalled pyarrow-0.14.1\n",
            "  Running setup.py develop for protesta\n",
            "Successfully installed nlp-0.4.0 protesta pyarrow-1.0.1 sacremoses-0.0.43 sentencepiece-0.1.91 tokenizers-0.8.1rc2 transformers-3.3.1 typer-0.3.2 xxhash-2.0.0\n"
          ],
          "name": "stdout"
        }
      ]
    },
    {
      "cell_type": "markdown",
      "metadata": {
        "id": "SgsjS33iPT3d"
      },
      "source": [
        "## Data\n",
        "\n",
        "Please note that the data has not been released publicly. If you have the training data, then create a folder organized as follows:"
      ]
    },
    {
      "cell_type": "code",
      "metadata": {
        "id": "c_oC5BHswjuX",
        "outputId": "c1011bfd-2e28-4f01-9336-f1f288f561d4",
        "colab": {
          "base_uri": "https://localhost:8080/",
          "height": 119
        }
      },
      "source": [
        "\"\"\"\n",
        "$ tree /content/drive/My\\ Drive/protesta-data/task3/\n",
        "\n",
        "task3/\n",
        "├── dev.tsv\n",
        "├── protest.py\n",
        "├── protest.py.lock\n",
        "├── test.tsv\n",
        "└── train.tsv\n",
        "\n",
        "0 directories, 5 files\n",
        "\"\"\"\n",
        "# Run this cell to mount your Google Drive.\n",
        "from google.colab import drive\n",
        "drive.mount('/content/drive/')\n",
        "# fine-tuned LM -> protest-model/\n",
        "# input -> protesta-data/task3\n",
        "# output -> protest-predictions-and-models\n",
        "!ls /content/drive/My\\ Drive/protest-predictions-and-models\n",
        "!ls /content/drive/My\\ Drive/protesta-data/task3"
      ],
      "execution_count": 2,
      "outputs": [
        {
          "output_type": "stream",
          "text": [
            "Mounted at /content/drive/\n",
            "tagger_bert-base-uncased_False.tar.gz\n",
            "china_test.data  test.tagger-protest-model-False  train.tsv.ftfy\n",
            "dev.tsv\t\t test.tagger-protest-model-True   train.tsv.original\n",
            "protest.py\t test.tsv\n",
            "protest.py.lock  train.tsv\n"
          ],
          "name": "stdout"
        }
      ]
    },
    {
      "cell_type": "markdown",
      "metadata": {
        "id": "aiQtH05TPy_V"
      },
      "source": [
        "## Cli\n",
        "\n",
        "Our code comes with a fully-featured cli: just type `protesta` to see the available commands."
      ]
    },
    {
      "cell_type": "code",
      "metadata": {
        "id": "WttL2nHpbtQ1",
        "outputId": "ab33af2a-517c-4443-a4d6-15e41c1c5449",
        "colab": {
          "base_uri": "https://localhost:8080/",
          "height": 476
        }
      },
      "source": [
        "!protesta"
      ],
      "execution_count": 4,
      "outputs": [
        {
          "output_type": "stream",
          "text": [
            "Usage: protesta [OPTIONS] COMMAND [ARGS]...\n",
            "\n",
            "Options:\n",
            "  --install-completion [bash|zsh|fish|powershell|pwsh]\n",
            "                                  Install\n",
            "                                  completion for\n",
            "                                  the specified\n",
            "                                  shell.\n",
            "\n",
            "  --show-completion [bash|zsh|fish|powershell|pwsh]\n",
            "                                  Show completion\n",
            "                                  for the\n",
            "                                  specified shell,\n",
            "                                  to copy it or\n",
            "                                  customize the\n",
            "                                  installation.\n",
            "\n",
            "  --help                          Show this\n",
            "                                  message and\n",
            "                                  exit.\n",
            "\n",
            "\n",
            "Commands:\n",
            "  evaluate\n",
            "  fit\n",
            "  predict\n",
            "  serve\n"
          ],
          "name": "stdout"
        }
      ]
    },
    {
      "cell_type": "markdown",
      "metadata": {
        "id": "hR_f9AQcQTX1"
      },
      "source": [
        "## Train\n",
        "\n",
        "The following cells trains 4 models:\n",
        "- a tagger using `bert-base-uncased`\n",
        "- a tagger using `bert-base-uncased` with a CRF layer on top\n",
        "- a tagger using `protest-bert`\n",
        "- a tagger using `protest-bert` with a CRF layer on top"
      ]
    },
    {
      "cell_type": "code",
      "metadata": {
        "id": "qJ7kIx-A5xFz"
      },
      "source": [
        "# copy the fine-tune bert model here\n",
        "!cp -r /content/drive/My\\ Drive/protest-model/ ./"
      ],
      "execution_count": 5,
      "outputs": []
    },
    {
      "cell_type": "markdown",
      "metadata": {
        "id": "fkpQhl-K8qZU"
      },
      "source": [
        "### Model 1"
      ]
    },
    {
      "cell_type": "code",
      "metadata": {
        "id": "4HC-GK1DMj2r",
        "outputId": "a174448d-9d2e-4bd9-e872-96ef4f69b28f",
        "colab": {
          "base_uri": "https://localhost:8080/",
          "height": 865
        }
      },
      "source": [
        "!protesta fit tagger bert-base-uncased /content/drive/My\\ Drive/protesta-data/task3/"
      ],
      "execution_count": null,
      "outputs": [
        {
          "output_type": "stream",
          "text": [
            "2020-10-14 21:38:56.927012: I tensorflow/stream_executor/platform/default/dso_loader.cc:48] Successfully opened dynamic library libcudart.so.10.1\n",
            "2020-10-14 21:38:58.944983: I tensorflow/stream_executor/platform/default/dso_loader.cc:48] Successfully opened dynamic library libcuda.so.1\n",
            "2020-10-14 21:38:58.945398: I tensorflow/stream_executor/cuda/cuda_gpu_executor.cc:982] successful NUMA node read from SysFS had negative value (-1), but there must be at least one NUMA node, so returning NUMA node zero\n",
            "2020-10-14 21:38:58.946008: I tensorflow/core/common_runtime/gpu/gpu_device.cc:1716] Found device 0 with properties: \n",
            "pciBusID: 0000:00:04.0 name: Tesla P100-PCIE-16GB computeCapability: 6.0\n",
            "coreClock: 1.3285GHz coreCount: 56 deviceMemorySize: 15.90GiB deviceMemoryBandwidth: 681.88GiB/s\n",
            "2020-10-14 21:38:58.946046: I tensorflow/stream_executor/platform/default/dso_loader.cc:48] Successfully opened dynamic library libcudart.so.10.1\n",
            "2020-10-14 21:38:59.173541: I tensorflow/stream_executor/platform/default/dso_loader.cc:48] Successfully opened dynamic library libcublas.so.10\n",
            "2020-10-14 21:38:59.321495: I tensorflow/stream_executor/platform/default/dso_loader.cc:48] Successfully opened dynamic library libcufft.so.10\n",
            "2020-10-14 21:38:59.352838: I tensorflow/stream_executor/platform/default/dso_loader.cc:48] Successfully opened dynamic library libcurand.so.10\n",
            "2020-10-14 21:38:59.588416: I tensorflow/stream_executor/platform/default/dso_loader.cc:48] Successfully opened dynamic library libcusolver.so.10\n",
            "2020-10-14 21:38:59.640574: I tensorflow/stream_executor/platform/default/dso_loader.cc:48] Successfully opened dynamic library libcusparse.so.10\n",
            "2020-10-14 21:39:00.165810: I tensorflow/stream_executor/platform/default/dso_loader.cc:48] Successfully opened dynamic library libcudnn.so.7\n",
            "2020-10-14 21:39:00.166031: I tensorflow/stream_executor/cuda/cuda_gpu_executor.cc:982] successful NUMA node read from SysFS had negative value (-1), but there must be at least one NUMA node, so returning NUMA node zero\n",
            "2020-10-14 21:39:00.166784: I tensorflow/stream_executor/cuda/cuda_gpu_executor.cc:982] successful NUMA node read from SysFS had negative value (-1), but there must be at least one NUMA node, so returning NUMA node zero\n",
            "2020-10-14 21:39:00.167383: I tensorflow/core/common_runtime/gpu/gpu_device.cc:1858] Adding visible gpu devices: 0\n",
            "2020-10-14 21:39:00.224668: I tensorflow/core/platform/profile_utils/cpu_utils.cc:104] CPU Frequency: 2200000000 Hz\n",
            "2020-10-14 21:39:00.224888: I tensorflow/compiler/xla/service/service.cc:168] XLA service 0x67fe680 initialized for platform Host (this does not guarantee that XLA will be used). Devices:\n",
            "2020-10-14 21:39:00.224918: I tensorflow/compiler/xla/service/service.cc:176]   StreamExecutor device (0): Host, Default Version\n",
            "2020-10-14 21:39:00.351969: I tensorflow/stream_executor/cuda/cuda_gpu_executor.cc:982] successful NUMA node read from SysFS had negative value (-1), but there must be at least one NUMA node, so returning NUMA node zero\n",
            "2020-10-14 21:39:00.352768: I tensorflow/compiler/xla/service/service.cc:168] XLA service 0x67fe4c0 initialized for platform CUDA (this does not guarantee that XLA will be used). Devices:\n",
            "2020-10-14 21:39:00.352800: I tensorflow/compiler/xla/service/service.cc:176]   StreamExecutor device (0): Tesla P100-PCIE-16GB, Compute Capability 6.0\n",
            "2020-10-14 21:39:00.353055: I tensorflow/stream_executor/cuda/cuda_gpu_executor.cc:982] successful NUMA node read from SysFS had negative value (-1), but there must be at least one NUMA node, so returning NUMA node zero\n",
            "2020-10-14 21:39:00.353682: I tensorflow/core/common_runtime/gpu/gpu_device.cc:1716] Found device 0 with properties: \n",
            "pciBusID: 0000:00:04.0 name: Tesla P100-PCIE-16GB computeCapability: 6.0\n",
            "coreClock: 1.3285GHz coreCount: 56 deviceMemorySize: 15.90GiB deviceMemoryBandwidth: 681.88GiB/s\n",
            "2020-10-14 21:39:00.353737: I tensorflow/stream_executor/platform/default/dso_loader.cc:48] Successfully opened dynamic library libcudart.so.10.1\n",
            "2020-10-14 21:39:00.353785: I tensorflow/stream_executor/platform/default/dso_loader.cc:48] Successfully opened dynamic library libcublas.so.10\n",
            "2020-10-14 21:39:00.353809: I tensorflow/stream_executor/platform/default/dso_loader.cc:48] Successfully opened dynamic library libcufft.so.10\n",
            "2020-10-14 21:39:00.353834: I tensorflow/stream_executor/platform/default/dso_loader.cc:48] Successfully opened dynamic library libcurand.so.10\n",
            "2020-10-14 21:39:00.353861: I tensorflow/stream_executor/platform/default/dso_loader.cc:48] Successfully opened dynamic library libcusolver.so.10\n",
            "2020-10-14 21:39:00.353887: I tensorflow/stream_executor/platform/default/dso_loader.cc:48] Successfully opened dynamic library libcusparse.so.10\n",
            "2020-10-14 21:39:00.353912: I tensorflow/stream_executor/platform/default/dso_loader.cc:48] Successfully opened dynamic library libcudnn.so.7\n",
            "2020-10-14 21:39:00.353996: I tensorflow/stream_executor/cuda/cuda_gpu_executor.cc:982] successful NUMA node read from SysFS had negative value (-1), but there must be at least one NUMA node, so returning NUMA node zero\n",
            "2020-10-14 21:39:00.354634: I tensorflow/stream_executor/cuda/cuda_gpu_executor.cc:982] successful NUMA node read from SysFS had negative value (-1), but there must be at least one NUMA node, so returning NUMA node zero\n",
            "2020-10-14 21:39:00.355174: I tensorflow/core/common_runtime/gpu/gpu_device.cc:1858] Adding visible gpu devices: 0\n",
            "2020-10-14 21:39:00.358470: I tensorflow/stream_executor/platform/default/dso_loader.cc:48] Successfully opened dynamic library libcudart.so.10.1\n",
            "2020-10-14 21:39:13.468261: I tensorflow/core/common_runtime/gpu/gpu_device.cc:1257] Device interconnect StreamExecutor with strength 1 edge matrix:\n",
            "2020-10-14 21:39:13.468326: I tensorflow/core/common_runtime/gpu/gpu_device.cc:1263]      0 \n",
            "2020-10-14 21:39:13.468339: I tensorflow/core/common_runtime/gpu/gpu_device.cc:1276] 0:   N \n",
            "2020-10-14 21:39:13.472330: I tensorflow/stream_executor/cuda/cuda_gpu_executor.cc:982] successful NUMA node read from SysFS had negative value (-1), but there must be at least one NUMA node, so returning NUMA node zero\n",
            "2020-10-14 21:39:13.473034: I tensorflow/stream_executor/cuda/cuda_gpu_executor.cc:982] successful NUMA node read from SysFS had negative value (-1), but there must be at least one NUMA node, so returning NUMA node zero\n",
            "2020-10-14 21:39:13.473626: W tensorflow/core/common_runtime/gpu/gpu_bfc_allocator.cc:39] Overriding allow_growth setting because the TF_FORCE_GPU_ALLOW_GROWTH environment variable is set. Original config value was 0.\n",
            "2020-10-14 21:39:13.473681: I tensorflow/core/common_runtime/gpu/gpu_device.cc:1402] Created TensorFlow device (/job:localhost/replica:0/task:0/device:GPU:0 with 14473 MB memory) -> physical GPU (device: 0, name: Tesla P100-PCIE-16GB, pci bus id: 0000:00:04.0, compute capability: 6.0)\n",
            "Downloading: 100% 433/433 [00:00<00:00, 440kB/s]\n",
            "Downloading: 100% 536M/536M [00:06<00:00, 87.2MB/s]\n",
            "2020-10-14 21:39:21.014723: I tensorflow/stream_executor/platform/default/dso_loader.cc:48] Successfully opened dynamic library libcublas.so.10\n"
          ],
          "name": "stdout"
        }
      ]
    },
    {
      "cell_type": "code",
      "metadata": {
        "id": "Vtu-qZDt6L3C"
      },
      "source": [
        "!protesta predict outputs/tagger_bert-base-uncased_False /content/drive/My\\ Drive/protesta-data/task3/test.tsv\n",
        "!protesta predict outputs/tagger_bert-base-uncased_False /content/drive/My\\ Drive/protesta-data/task3/china_test.data"
      ],
      "execution_count": null,
      "outputs": []
    },
    {
      "cell_type": "code",
      "metadata": {
        "id": "l_fByFZULacu"
      },
      "source": [
        "!mv /content/drive/My\\ Drive/protesta-data/task3/test.tagger-bert-base-uncased-False ./task3_test.predict\n",
        "!mv /content/drive/My\\ Drive/protesta-data/task3/china_test.tagger-bert-base-uncased-False ./china_test.predict\n",
        "!zip /content/drive/My\\ Drive/protest-predictions-and-models/bert-base-uncased-False.zip ./task3_test.predict ./china_test.predict\n",
        "!tar -cvf /content/drive/My\\ Drive/protest-predictions-and-models/tagger_bert-base-uncased_False.tar.gz outputs/tagger_bert-base-uncased_False\n",
        "!rm -rf outputs/ task3_test.predict ./china_test.predict"
      ],
      "execution_count": null,
      "outputs": []
    },
    {
      "cell_type": "markdown",
      "metadata": {
        "id": "Tj-WFMa38Tdq"
      },
      "source": [
        "### Model 2"
      ]
    },
    {
      "cell_type": "code",
      "metadata": {
        "id": "4igammsw8V60"
      },
      "source": [
        "!protesta fit tagger bert-base-uncased /content/drive/My\\ Drive/protesta-data/task3/ --crf-decoding"
      ],
      "execution_count": null,
      "outputs": []
    },
    {
      "cell_type": "code",
      "metadata": {
        "id": "gmAVH44n8V69"
      },
      "source": [
        "!protesta predict outputs/tagger_bert-base-uncased_True /content/drive/My\\ Drive/protesta-data/task3/test.tsv\n",
        "!protesta predict outputs/tagger_bert-base-uncased_True /content/drive/My\\ Drive/protesta-data/task3/china_test.data"
      ],
      "execution_count": null,
      "outputs": []
    },
    {
      "cell_type": "code",
      "metadata": {
        "id": "SdebAqsm8V7C"
      },
      "source": [
        "!mv /content/drive/My\\ Drive/protesta-data/task3/test.tagger-bert-base-uncased-True ./task3_test.predict\n",
        "!mv /content/drive/My\\ Drive/protesta-data/task3/china_test.tagger-bert-base-uncased-True ./china_test.predict\n",
        "!zip /content/drive/My\\ Drive/protest-predictions-and-models/bert-base-uncased-True.zip ./task3_test.predict ./china_test.predict\n",
        "!tar -cvf /content/drive/My\\ Drive/protest-predictions-and-models/tagger_bert-base-uncased_True.tar.gz outputs/tagger_bert-base-uncased_True\n",
        "!rm -rf outputs/ ./task3_test.predict ./china_test.predict"
      ],
      "execution_count": null,
      "outputs": []
    },
    {
      "cell_type": "markdown",
      "metadata": {
        "id": "MoTizVTO8eFH"
      },
      "source": [
        "### Model 3"
      ]
    },
    {
      "cell_type": "code",
      "metadata": {
        "id": "ixitxY2n8dJb"
      },
      "source": [
        "!protesta fit tagger protest-model /content/drive/My\\ Drive/protesta-data/task3/"
      ],
      "execution_count": null,
      "outputs": []
    },
    {
      "cell_type": "code",
      "metadata": {
        "id": "-7t8z3wv8dJg"
      },
      "source": [
        "!protesta predict outputs/tagger_protest-model_False /content/drive/My\\ Drive/protesta-data/task3/test.tsv\n",
        "!protesta predict outputs/tagger_protest-model_False /content/drive/My\\ Drive/protesta-data/task3/china_test.data"
      ],
      "execution_count": null,
      "outputs": []
    },
    {
      "cell_type": "code",
      "metadata": {
        "id": "D4K_iG2qOHEA"
      },
      "source": [
        "!mv /content/drive/My\\ Drive/protesta-data/task3/test.tagger-protest-model-False ./task3_test.predict\n",
        "!mv /content/drive/My\\ Drive/protesta-data/task3/china_test.tagger-protest-model-False ./china_test.predict\n",
        "!zip /content/drive/My\\ Drive/protest-predictions-and-models/protest-model-False.zip ./task3_test.predict ./china_test.predict\n",
        "!tar -cvf /content/drive/My\\ Drive/protest-predictions-and-models/tagger_protest-model_False.tar.gz outputs/tagger_protest-model_False\n",
        "!rm -rf outputs/ task3_test.predict ./china_test.predict"
      ],
      "execution_count": null,
      "outputs": []
    },
    {
      "cell_type": "markdown",
      "metadata": {
        "id": "d9OBDZSy8lpV"
      },
      "source": [
        "### Model 4"
      ]
    },
    {
      "cell_type": "code",
      "metadata": {
        "id": "WL1bURlg8niL"
      },
      "source": [
        "!protesta fit tagger protest-model /content/drive/My\\ Drive/protesta-data/task3/ --crf-decoding"
      ],
      "execution_count": null,
      "outputs": []
    },
    {
      "cell_type": "code",
      "metadata": {
        "id": "GuDPMmOa8niU"
      },
      "source": [
        "!protesta predict outputs/tagger_protest-model_True /content/drive/My\\ Drive/protesta-data/task3/test.tsv\n",
        "!protesta predict outputs/tagger_protest-model_True /content/drive/My\\ Drive/protesta-data/task3/china_test.data"
      ],
      "execution_count": null,
      "outputs": []
    },
    {
      "cell_type": "code",
      "metadata": {
        "id": "YWxgUICiOYxk"
      },
      "source": [
        "!mv /content/drive/My\\ Drive/protesta-data/task3/test.tagger-protest-model-True ./task3_test.predict\n",
        "!mv /content/drive/My\\ Drive/protesta-data/task3/china_test.tagger-protest-model-True ./china_test.predict\n",
        "!zip /content/drive/My\\ Drive/protest-predictions-and-models/protest-model-True.zip ./task3_test.predict ./china_test.predict\n",
        "!tar -cvf /content/drive/My\\ Drive/protest-predictions-and-models/tagger_protest-model_True.tar.gz outputs/tagger_protest-model_True\n",
        "!rm -rf outputs/ task3_test.predict ./china_test.predict"
      ],
      "execution_count": null,
      "outputs": []
    }
  ]
}